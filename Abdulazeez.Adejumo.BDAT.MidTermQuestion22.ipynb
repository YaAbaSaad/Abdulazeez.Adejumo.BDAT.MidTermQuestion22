{
 "cells": [
  {
   "cell_type": "code",
   "execution_count": 13,
   "metadata": {},
   "outputs": [],
   "source": [
    "# Create a SQLite database on disk named 'weather_database.sqlite'\n",
    "conn = sqlite3.connect('weather_database.sqlite')\n",
    "cur = conn.cursor()\n",
    "\n",
    "# Create the Weather table\n",
    "cur.execute('''\n",
    "CREATE TABLE IF NOT EXISTS Weather (\n",
    "    id INT PRIMARY KEY,\n",
    "    recordDate DATE,\n",
    "    temperature INT\n",
    ")''')\n",
    "\n",
    "# Insert records into the Weather table\n",
    "cur.executemany('''\n",
    "INSERT OR REPLACE INTO Weather (id, recordDate, temperature) \n",
    "VALUES (?, ?, ?)''', [\n",
    "    (1, '2015-01-01', 10),\n",
    "    (2, '2015-01-02', 25),\n",
    "    (3, '2015-01-03', 20),\n",
    "    (4, '2015-01-04', 30)\n",
    "])\n",
    "\n",
    "# Commit the changes to save them to disk\n",
    "conn.commit()\n",
    "\n"
   ]
  },
  {
   "cell_type": "code",
   "execution_count": 14,
   "metadata": {},
   "outputs": [
    {
     "data": {
      "text/plain": [
       "[(2,), (4,)]"
      ]
     },
     "execution_count": 14,
     "metadata": {},
     "output_type": "execute_result"
    }
   ],
   "source": [
    "# SQL query to find the desired IDs\n",
    "cur.execute('''\n",
    "SELECT w1.id\n",
    "FROM Weather w1\n",
    "JOIN Weather w2 ON date(w1.recordDate) = date(w2.recordDate, '+1 day')\n",
    "WHERE w1.temperature > w2.temperature;\n",
    "''')\n",
    "\n",
    "# Fetching the result\n",
    "sql_result = cur.fetchall()\n",
    "sql_result"
   ]
  }
 ],
 "metadata": {
  "kernelspec": {
   "display_name": "Python 3 (ipykernel)",
   "language": "python",
   "name": "python3"
  },
  "language_info": {
   "codemirror_mode": {
    "name": "ipython",
    "version": 3
   },
   "file_extension": ".py",
   "mimetype": "text/x-python",
   "name": "python",
   "nbconvert_exporter": "python",
   "pygments_lexer": "ipython3",
   "version": "3.11.4"
  }
 },
 "nbformat": 4,
 "nbformat_minor": 4
}
